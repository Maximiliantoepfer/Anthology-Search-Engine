{
 "cells": [
  {
   "cell_type": "code",
   "execution_count": 7,
   "outputs": [],
   "source": [
    "from pathlib import Path\n",
    "import requests\n",
    "import zipfile"
   ],
   "metadata": {
    "collapsed": false,
    "ExecuteTime": {
     "start_time": "2023-04-15T20:07:15.572828Z",
     "end_time": "2023-04-15T20:07:15.614244Z"
    }
   }
  },
  {
   "cell_type": "code",
   "execution_count": 8,
   "outputs": [
    {
     "name": "stdout",
     "output_type": "stream",
     "text": [
      "data/raw/ir_dataset does not exist.. downloading\n",
      "Downloading data...\n",
      "Unzipping..\n",
      "Done!\n"
     ]
    }
   ],
   "source": [
    "data_path = Path(\"data/raw/\")\n",
    "dataset_path = data_path / \"ir_dataset\"\n",
    "if dataset_path.is_dir():\n",
    "    print(f\"{dataset_path} already exists.. skipping download\")\n",
    "else:\n",
    "    print(f\"{dataset_path} does not exist.. downloading\")\n",
    "    dataset_path.mkdir(parents=True, exist_ok=True)\n",
    "\n",
    "    # Download the dataset\n",
    "    with open(data_path / \"ir-anthology-v1.zip\", \"wb\") as f:\n",
    "        url = \"https://files.webis.de/teaching/ir-ss23/ir-anthology-v1.zip\"\n",
    "        request = requests.get(url)\n",
    "        print(\"Downloading data...\")\n",
    "        f.write(request.content)\n",
    "\n",
    "    with zipfile.ZipFile(data_path / \"ir-anthology-v1.zip\", \"r\") as zip_ref:\n",
    "        print(\"Unzipping..\")\n",
    "        zip_ref.extractall(dataset_path)\n",
    "        print(\"Done!\")\n"
   ],
   "metadata": {
    "collapsed": false,
    "ExecuteTime": {
     "start_time": "2023-04-15T20:07:15.614080Z",
     "end_time": "2023-04-15T20:07:24.672568Z"
    }
   }
  }
 ],
 "metadata": {
  "kernelspec": {
   "display_name": "Python 3 (ipykernel)",
   "language": "python",
   "name": "python3"
  },
  "language_info": {
   "codemirror_mode": {
    "name": "ipython",
    "version": 3
   },
   "file_extension": ".py",
   "mimetype": "text/x-python",
   "name": "python",
   "nbconvert_exporter": "python",
   "pygments_lexer": "ipython3",
   "version": "3.9.12"
  }
 },
 "nbformat": 4,
 "nbformat_minor": 5
}
